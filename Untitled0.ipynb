{
  "nbformat": 4,
  "nbformat_minor": 0,
  "metadata": {
    "colab": {
      "name": "Untitled0.ipynb",
      "provenance": [],
      "collapsed_sections": [],
      "authorship_tag": "ABX9TyOD5wV0fq8GDHx33uJSXp6q",
      "include_colab_link": true
    },
    "kernelspec": {
      "name": "python3",
      "display_name": "Python 3"
    },
    "accelerator": "GPU"
  },
  "cells": [
    {
      "cell_type": "markdown",
      "metadata": {
        "id": "view-in-github",
        "colab_type": "text"
      },
      "source": [
        "<a href=\"https://colab.research.google.com/github/inix29/Hello-world/blob/master/Untitled0.ipynb\" target=\"_parent\"><img src=\"https://colab.research.google.com/assets/colab-badge.svg\" alt=\"Open In Colab\"/></a>"
      ]
    },
    {
      "cell_type": "code",
      "metadata": {
        "id": "Id0q1DJnlFtJ",
        "colab_type": "code",
        "colab": {
          "base_uri": "https://localhost:8080/",
          "height": 323
        },
        "outputId": "93a429f4-b293-4fc8-c850-a8bf6fd81e88"
      },
      "source": [
        "!pip install numpy\n",
        "!pwd\n",
        "!ls -la\n",
        "!df\n",
        "!uname"
      ],
      "execution_count": 2,
      "outputs": [
        {
          "output_type": "stream",
          "text": [
            "Requirement already satisfied: numpy in /usr/local/lib/python3.6/dist-packages (1.18.2)\n",
            "/content\n",
            "total 16\n",
            "drwxr-xr-x 1 root root 4096 Mar 18 16:23 .\n",
            "drwxr-xr-x 1 root root 4096 Mar 22 14:10 ..\n",
            "drwxr-xr-x 1 root root 4096 Mar 18 16:23 .config\n",
            "drwxr-xr-x 1 root root 4096 Mar 18 16:23 sample_data\n",
            "Filesystem     1K-blocks     Used Available Use% Mounted on\n",
            "overlay        113008892 29128528  78096812  28% /\n",
            "tmpfs              65536        0     65536   0% /dev\n",
            "tmpfs            6667592        0   6667592   0% /sys/fs/cgroup\n",
            "tmpfs            6667592       12   6667580   1% /var/colab\n",
            "/dev/sda1      119512108 30823488  88672236  26% /etc/hosts\n",
            "shm              6291456        0   6291456   0% /dev/shm\n",
            "tmpfs            6667592        0   6667592   0% /proc/acpi\n",
            "tmpfs            6667592        0   6667592   0% /proc/scsi\n",
            "tmpfs            6667592        0   6667592   0% /sys/firmware\n",
            "Linux\n"
          ],
          "name": "stdout"
        }
      ]
    },
    {
      "cell_type": "code",
      "metadata": {
        "id": "OWPLnQsnmQ0X",
        "colab_type": "code",
        "colab": {}
      },
      "source": [
        ""
      ],
      "execution_count": 0,
      "outputs": []
    }
  ]
}